{
 "cells": [
  {
   "cell_type": "code",
   "execution_count": 1,
   "metadata": {},
   "outputs": [],
   "source": [
    "import numpy as np"
   ]
  },
  {
   "cell_type": "code",
   "execution_count": 2,
   "metadata": {},
   "outputs": [
    {
     "name": "stdout",
     "output_type": "stream",
     "text": [
      "<class 'numpy.int32'>\n",
      "<class 'numpy.int32'>\n",
      "<class 'numpy.int32'>\n",
      "<class 'numpy.int32'>\n",
      "<class 'numpy.int32'>\n",
      "<class 'numpy.int32'>\n"
     ]
    }
   ],
   "source": [
    "#Q.No_1>  Create a NumPy array 'arr' of integers from 0 to 5 and print its data type. \n",
    "arr=np.array(range(0,5+1))\n",
    "\n",
    "for i in range(0,5+1):\n",
    "    print(type(arr[i]))"
   ]
  },
  {
   "cell_type": "code",
   "execution_count": 3,
   "metadata": {},
   "outputs": [
    {
     "name": "stdout",
     "output_type": "stream",
     "text": [
      "data types is float64\n"
     ]
    }
   ],
   "source": [
    "#Q_No_2> Create a NumPy array 'arr' with a data type of complex128 containing three complex numbers.\n",
    "arr=np.array([1.5,2.6,3.7])\n",
    "count=0\n",
    "n=len(arr)\n",
    "for i in range(0,n):\n",
    "    if type(arr[i])==np.float64:\n",
    "        count+=1\n",
    "if count==len(arr):\n",
    "    print(\"data types is float64\")"
   ]
  },
  {
   "cell_type": "code",
   "execution_count": 4,
   "metadata": {},
   "outputs": [
    {
     "data": {
      "text/plain": [
       "array([1.+0.j, 2.+0.j, 3.+0.j])"
      ]
     },
     "execution_count": 4,
     "metadata": {},
     "output_type": "execute_result"
    }
   ],
   "source": [
    "#Q_No_3>  Create a NumPy array 'arr' with a data type of complex128 containing three complex numbers.\n",
    "l=[1,2,3]\n",
    "arr=np.array(l,dtype='complex128')\n",
    "arr"
   ]
  },
  {
   "cell_type": "code",
   "execution_count": 5,
   "metadata": {},
   "outputs": [
    {
     "name": "stdout",
     "output_type": "stream",
     "text": [
      "Data type of original arr int32\n",
      "Data type of nverted arr float32\n"
     ]
    }
   ],
   "source": [
    "#Q_No_4> Convert an existing NumPy array 'arr' of integers to float32 data type.\n",
    "arr=np.array([1,2,3,4])\n",
    "arr_flaot32=arr.astype(np.float32)\n",
    "print(\"Data type of original arr\",arr.dtype)\n",
    "print(\"Data type of nverted arr\",arr_flaot32.dtype)"
   ]
  },
  {
   "cell_type": "code",
   "execution_count": 6,
   "metadata": {},
   "outputs": [
    {
     "name": "stdout",
     "output_type": "stream",
     "text": [
      "Original arr [1.12345679 2.98765432 3.14159265]\n",
      "Data type of original arr float64\n",
      "Converted arr [1. 2. 3. 4.]\n",
      "Data type of nverted arr float32\n"
     ]
    }
   ],
   "source": [
    "#Q_No_5> . Given a NumPy array 'arr' with float64 data type, convert it to float32 to reduce decimal precision.\n",
    "arr = np.array([1.123456789, 2.987654321, 3.1415926535], dtype=np.float64)\n",
    "arr_float32 = arr.astype(np.float32)\n",
    "print(\"Original arr\",arr)\n",
    "print(\"Data type of original arr\",arr.dtype)\n",
    "print(\"Converted arr\",arr_flaot32)\n",
    "print(\"Data type of nverted arr\",arr_flaot32.dtype)"
   ]
  },
  {
   "cell_type": "code",
   "execution_count": 7,
   "metadata": {},
   "outputs": [
    {
     "name": "stdout",
     "output_type": "stream",
     "text": [
      "[0 1 2 3 4]\n",
      "(5,)\n",
      "5\n",
      "int32\n"
     ]
    }
   ],
   "source": [
    "#Q_No_6> Write a function array_attributes that takes a NumPy array as input and returns its shape, size, and data type.\n",
    "def array_atrriibutes(n):\n",
    "    arr=np.array([i for i in range(0,n)])\n",
    "    print(arr)\n",
    "    print(arr.shape)\n",
    "    print(arr.size)\n",
    "    print(arr.dtype)\n",
    "\n",
    "array_atrriibutes(5)"
   ]
  },
  {
   "cell_type": "code",
   "execution_count": 8,
   "metadata": {},
   "outputs": [],
   "source": [
    "#Q_No_7>  Create a function array_dimension that takes a NumPy array as input and returns its dimensionality.\n",
    "def array_dimension(n):\n",
    "    arr=np.array([i for i in range(0,n)])\n",
    "    return arr.ndim\n",
    "\n",
    "n=int(input(\"enter size of array\"))\n",
    "print(array_dimension(5))"
   ]
  },
  {
   "cell_type": "code",
   "execution_count": null,
   "metadata": {},
   "outputs": [],
   "source": [
    "#Q_No_8> Design a function item_size_info that takes a NumPy array as input and returns the item size and the total size in bytes.\n",
    "\n",
    "def item_size_info(n):\n",
    "    arr=np.array([i for i in range(0,n)])\n",
    "    return arr.size,arr.byteswap()\n",
    "\n",
    "n=int(input(\"enter size of array\"))\n",
    "print(item_size_info(n))"
   ]
  },
  {
   "cell_type": "code",
   "execution_count": null,
   "metadata": {},
   "outputs": [],
   "source": [
    "#Q_No_9>  9. Create a function array_strides that takes a NumPy array as input and returns the strides of the array.\n",
    "\n",
    "def array_strides(n):\n",
    "    arr=np.array([i for i in range(0,n)])\n",
    "    return arr.strides\n",
    "\n",
    "n=int(input(\"enter size of array\"))\n",
    "print(array_strides(n))"
   ]
  },
  {
   "cell_type": "code",
   "execution_count": null,
   "metadata": {},
   "outputs": [],
   "source": [
    "#Q_No_10>  Design a function shape_stride_relationship that takes a NumPy array as input and returns the shape and strides of the array.\n",
    "def shape_stride_relationship(n):\n",
    "    arr=np.array([i for i in range(0,n)])\n",
    "    return arr.shape,arr.strides\n",
    "\n",
    "n=int(input(\"enter size of array\"))\n",
    "print(shape_stride_relationship(n))\n"
   ]
  },
  {
   "cell_type": "code",
   "execution_count": 1,
   "metadata": {},
   "outputs": [],
   "source": [
    "#Q_No_11>. Create a function `create_zeros_array` that takes an integer `n` as input and returns a NumPy array of zeros with `n` element\n",
    "def create_zeros_array(n):\n",
    "    arr=np.zeros((n))\n",
    "    return arr\n",
    "\n",
    "n=int(input(\"enter size of array\"))\n",
    "print(create_zeros_array(n))"
   ]
  },
  {
   "cell_type": "code",
   "execution_count": 2,
   "metadata": {},
   "outputs": [],
   "source": [
    "#Q_No_12>Write a function `create_ones_matrix` that takes integers `rows` and `cols` as inputs and generates a 2D NumPy array filled with ones of size `rows x cols`.\n",
    "def create_ones_array(n,m):\n",
    "    arr=np.zeros((n,m))\n",
    "    return arr\n",
    "\n",
    "n=int(input(\"enter row of array\"))\n",
    "m=int(input(\"enter column of array\"))\n",
    "\n",
    "print(create_ones_array(n,m))"
   ]
  },
  {
   "cell_type": "code",
   "execution_count": null,
   "metadata": {},
   "outputs": [
    {
     "name": "stdout",
     "output_type": "stream",
     "text": [
      "[1 3 5 7 9]\n"
     ]
    }
   ],
   "source": [
    "#Q_No_13> Write a function `generate_range_array` that takes three integers start, stop, and step as arguments and creates a NumPy array with a range starting from `start`, ending at stop (exclusive), and with the specified step`.\n",
    "\n",
    "def generate_range_array(start,stop,step):\n",
    "    return np.arange(start,stop,step)\n",
    "\n",
    "array=generate_range_array(1,10,2)\n",
    "print(array)\n"
   ]
  },
  {
   "cell_type": "code",
   "execution_count": null,
   "metadata": {},
   "outputs": [
    {
     "name": "stdout",
     "output_type": "stream",
     "text": [
      "[0.]\n"
     ]
    }
   ],
   "source": [
    "#Q_No_14> Design a function `generate_linear_space` that takes two floats `start`, `stop`, and an integer `num` as arguments and generates a NumPy array with num equally spaced values between `start` and `stop` (inclusive).\n",
    "def generate_linear_space(start,stop,num):\n",
    "    return np.arange(start,stop,num)\n",
    "\n",
    "array=generate_linear_space(0.0,1.0,5)\n",
    "print(array)"
   ]
  },
  {
   "cell_type": "code",
   "execution_count": null,
   "metadata": {},
   "outputs": [],
   "source": [
    "#Q_No_15>  Create a function `create_identity_matrix` that takes an integer `n` as input and generates a square identity matrix of size `n x n` using `numpy.eye`.\n",
    "\n",
    "def create_identity_matrix(n):\n",
    "    arr=np.eye((n))\n",
    "    return arr\n",
    "\n",
    "n=int(input(\"enter no of  array\"))\n",
    "\n",
    "print(create_identity_matrix(n))"
   ]
  },
  {
   "cell_type": "code",
   "execution_count": null,
   "metadata": {},
   "outputs": [
    {
     "data": {
      "text/plain": [
       "array([1, 2, 3, 4, 5])"
      ]
     },
     "execution_count": 32,
     "metadata": {},
     "output_type": "execute_result"
    }
   ],
   "source": [
    "#Q_No_16> Write a function that takes a Python list and converts it into a NumPy array.\n",
    "def convert_arr(list):\n",
    "    return np.array(list)\n",
    "\n",
    "array=convert_arr([1,2,3,4,5])\n",
    "array"
   ]
  },
  {
   "cell_type": "code",
   "execution_count": 1,
   "metadata": {},
   "outputs": [
    {
     "ename": "NameError",
     "evalue": "name 'np' is not defined",
     "output_type": "error",
     "traceback": [
      "\u001b[1;31m---------------------------------------------------------------------------\u001b[0m",
      "\u001b[1;31mNameError\u001b[0m                                 Traceback (most recent call last)",
      "Cell \u001b[1;32mIn[1], line 2\u001b[0m\n\u001b[0;32m      1\u001b[0m \u001b[38;5;66;03m#Q_No_17> Create a NumPy array and demonstrate the use of `numpy.view` to create a new array object with the same data.\u001b[39;00m\n\u001b[1;32m----> 2\u001b[0m arr1\u001b[38;5;241m=\u001b[39m\u001b[43mnp\u001b[49m\u001b[38;5;241m.\u001b[39mones((\u001b[38;5;241m3\u001b[39m,\u001b[38;5;241m4\u001b[39m))\n\u001b[0;32m      3\u001b[0m arr2\u001b[38;5;241m=\u001b[39mnp\u001b[38;5;241m.\u001b[39mones((\u001b[38;5;241m4\u001b[39m,\u001b[38;5;241m3\u001b[39m))\n\u001b[0;32m      4\u001b[0m \u001b[38;5;28;01mdef\u001b[39;00m \u001b[38;5;21mfunc\u001b[39m(arr1,arr2):\n",
      "\u001b[1;31mNameError\u001b[0m: name 'np' is not defined"
     ]
    }
   ],
   "source": [
    "#Q_No_17> Create a NumPy array and demonstrate the use of `numpy.view` to create a new array object with the same data.\n",
    "arr1=np.ones((3,4))\n",
    "arr2=np.ones((4,3))\n",
    "def func(arr1,arr2):\n",
    "    print(np.concatenate(arr1,arr2))\n",
    "\n",
    "func(arr1,arr2)"
   ]
  },
  {
   "cell_type": "code",
   "execution_count": null,
   "metadata": {},
   "outputs": [
    {
     "data": {
      "text/plain": [
       "array([1, 2, 3, 4, 5, 6])"
      ]
     },
     "execution_count": 53,
     "metadata": {},
     "output_type": "execute_result"
    }
   ],
   "source": [
    "#Q_No_18> Write a function that takes two NumPy arrays and concatenates them along a specified axis.\n",
    "def conc_arr(arr1,arr2,axis):\n",
    "    return np.concatenate((arr1,arr2),axis=axis)\n",
    "\n",
    "arr1=np.array([1,2,3])\n",
    "arr2=np.array([4,5,6])\n",
    "conc_arr(arr1,arr2,0)\n"
   ]
  },
  {
   "cell_type": "code",
   "execution_count": null,
   "metadata": {},
   "outputs": [
    {
     "data": {
      "text/plain": [
       "array([[1, 2, 3, 4],\n",
       "       [2, 3, 5, 3]])"
      ]
     },
     "execution_count": 52,
     "metadata": {},
     "output_type": "execute_result"
    }
   ],
   "source": [
    "#Q_No_19> Create two NumPy arrays with different shapes and concatenate them horizontally using `numpy.concatenate`.\n",
    "def conc_arr(arr1,arr2):\n",
    "    return np.concatenate((arr1,arr2),axis=1)\n",
    "\n",
    "arr1=np.array([[1,2,3],[2,3,5]])\n",
    "arr2=np.array([[4],[3]])\n",
    "conc_arr(arr1,arr2)"
   ]
  },
  {
   "cell_type": "code",
   "execution_count": null,
   "metadata": {},
   "outputs": [
    {
     "name": "stdout",
     "output_type": "stream",
     "text": [
      "[[ 1  2]\n",
      " [ 3  4]\n",
      " [ 5  6]\n",
      " [ 7  8]\n",
      " [ 9 10]]\n"
     ]
    }
   ],
   "source": [
    "#Q_No_20>  Write a function that vertically stacks multiple NumPy arrays given as a list.\n",
    "def vertical_stack(array):\n",
    "    return np.vstack(array)\n",
    "array1 = np.array([[1, 2], [3, 4]])\n",
    "array2 = np.array([[5, 6]])\n",
    "array3 = np.array([[7, 8], [9, 10]])\n",
    "\n",
    "result = vertical_stack([array1, array2, array3])\n",
    "print(result)\n"
   ]
  },
  {
   "cell_type": "code",
   "execution_count": null,
   "metadata": {},
   "outputs": [
    {
     "name": "stdout",
     "output_type": "stream",
     "text": [
      "[1 3 5 7 9]\n"
     ]
    }
   ],
   "source": [
    "#Q_No_21>  Write a Python function using NumPy to create an array of integers within a specified range (inclusive) with a given step size.\n",
    "def create_arr(start,stop,step):\n",
    "    return np.arange(start,stop,step)\n",
    "array = create_arr(1, 10, 2)\n",
    "print(array)\n"
   ]
  },
  {
   "cell_type": "code",
   "execution_count": null,
   "metadata": {},
   "outputs": [
    {
     "name": "stdout",
     "output_type": "stream",
     "text": [
      "[0.         0.11111111 0.22222222 0.33333333 0.44444444 0.55555556\n",
      " 0.66666667 0.77777778 0.88888889 1.        ]\n"
     ]
    }
   ],
   "source": [
    "#Q_No_22> . Write a Python function using NumPy to generate an array of 10 equally spaced values between 0 and 1 (inclusive).\n",
    "def gen_equally_spaced():\n",
    "    array=np.linspace(0,1,10)\n",
    "    return array\n",
    "\n",
    "print(gen_equally_spaced())"
   ]
  },
  {
   "cell_type": "code",
   "execution_count": null,
   "metadata": {},
   "outputs": [
    {
     "name": "stdout",
     "output_type": "stream",
     "text": [
      "[1.00000000e+001 5.62341325e+250             inf             inf\n",
      "             inf]\n"
     ]
    }
   ],
   "source": [
    "#Q_No_23> Write a Python function using NumPy to create an array of 5 logarithmically spaced values between 1 and 1000 (inclusive).\n",
    "def log_arr():\n",
    "    return np.logspace(1,1000,5)\n",
    "\n",
    "print(log_arr())"
   ]
  },
  {
   "cell_type": "code",
   "execution_count": null,
   "metadata": {},
   "outputs": [
    {
     "name": "stdout",
     "output_type": "stream",
     "text": [
      "   A   B\n",
      "0  1  10\n",
      "1  0  20\n",
      "2  3 -30\n",
      "3  0  40\n",
      "4  5 -50\n"
     ]
    }
   ],
   "source": [
    "#Q_No_24> . Create a Pandas DataFrame using a NumPy array that contains 5 rows and 3 columns, where the values are random integers between 1 and 100.\n",
    "import pandas as pd\n",
    "pd.DataFrame(np.random.randint(1,100,size=(5,3)))"
   ]
  },
  {
   "cell_type": "code",
   "execution_count": null,
   "metadata": {},
   "outputs": [
    {
     "name": "stdout",
     "output_type": "stream",
     "text": [
      "   A   B\n",
      "0  1  10\n",
      "1  0  20\n",
      "2  3 -30\n",
      "3  0  40\n",
      "4  5 -50\n"
     ]
    }
   ],
   "source": [
    "#Q_No_25>  Write a function that takes a Pandas DataFrame and replaces all negative values in a specific column with zeros. Use NumPy operations within the Pandas DataFrame.\n",
    "def replace_negatives_with_zero(df, column_name):\n",
    "    df[column_name] = np.where(df[column_name] < 0, 0, df[column_name])\n",
    "    return df\n",
    "\n",
    "data = {'A': [1, -2, 3, -4, 5], 'B': [10, 20, -30, 40, -50]}\n",
    "df = pd.DataFrame(data)\n",
    "\n",
    "# Replacing negative values in column 'A'\n",
    "modified_df = replace_negatives_with_zero(df, 'A')\n",
    "print(modified_df)"
   ]
  },
  {
   "cell_type": "code",
   "execution_count": 2,
   "metadata": {},
   "outputs": [],
   "source": [
    "#Q_No_26>Access the 3rd element from the given NumPy array.\n",
    "arr=np.array([10,20,30,40,50])\n",
    "print(arr[2])"
   ]
  },
  {
   "cell_type": "code",
   "execution_count": 3,
   "metadata": {},
   "outputs": [],
   "source": [
    "#Q_No_27> Retrieve the element at index (1, 2) from the 2D NumPy array.\n",
    "arr_2d=np.array([[1,2,3],[4,5,6],[7,8,9]])\n",
    "print(arr_2d[1][2])\n"
   ]
  },
  {
   "cell_type": "code",
   "execution_count": 4,
   "metadata": {},
   "outputs": [],
   "source": [
    "#Q_No_28>Using boolean indexing, extract elements greater than 5 from the given NumPy array.\n",
    "arr=np.array([1,2,3,4,5,6,7,8,9])\n",
    "print(np.extract(arr>5))"
   ]
  },
  {
   "cell_type": "code",
   "execution_count": 5,
   "metadata": {},
   "outputs": [],
   "source": [
    "#Q_No_29>. Perform basic slicing to extract elements from index 2 to 5 (inclusive) from the given NumPy array.\n",
    "arr=np.array([1,2,3,4,5,6,7,8,9])\n",
    "print(arr[2:5])"
   ]
  },
  {
   "cell_type": "code",
   "execution_count": 6,
   "metadata": {},
   "outputs": [],
   "source": [
    "#Q_No_30>Slice the 2D NumPy array to extract the sub-array `[[2, 3], [5, 6]]` from the given array.\n",
    "arr_2d=np.array([[1,2,3],[4,5,6],[7,8,9]])\n",
    "print(arr_2d[0:2,1:3])"
   ]
  },
  {
   "cell_type": "code",
   "execution_count": null,
   "metadata": {},
   "outputs": [],
   "source": [
    "#Q_No_31> Write a NumPy function to extract elements in specific order from a given 2D array based on indices provided in another array.\n",
    "def extract_elements(array_2d, indices):\n",
    "    rows, cols = indices[:, 0], indices[:, 1]\n",
    "    extracted_elements = array_2d[rows, cols]\n",
    "    return extracted_elements\n",
    "\n",
    "array_2d = np.array([[10, 20, 30],\n",
    "                     [40, 50, 60],\n",
    "                     [70, 80, 90]])\n",
    "\n",
    "indices = np.array([[0, 1],  # Element at (0, 1) -> 20\n",
    "                    [1, 2],  # Element at (1, 2) -> 60\n",
    "                    [2, 0]]) # Element at (2, 0) -> 70\n",
    "\n",
    "# Extracting elements\n",
    "extracted_elements = extract_elements(array_2d, indices)\n",
    "print(extracted_elements) "
   ]
  },
  {
   "cell_type": "code",
   "execution_count": null,
   "metadata": {},
   "outputs": [],
   "source": [
    "#Q_NO_32>Create a NumPy function that filters elements greater than a threshold from a given 1D array using boolean indexing.\n",
    "\n",
    "def filter_greater_than(array, threshold):\n",
    "    mask = array > threshold\n",
    "    \n",
    "    # Use the boolean mask to filter the elements\n",
    "    filtered_array = array[mask]\n",
    "    \n",
    "    return filtered_array\n",
    "\n",
    "# Creating a sample 1D array\n",
    "array = np.array([1, 5, 7, 2, 9, 4])\n",
    "\n",
    "# Setting a threshold value\n",
    "threshold = 4\n",
    "\n",
    "# Filtering elements greater than the threshold\n",
    "filtered_elements = filter_greater_than(array, threshold)\n",
    "print(filtered_elements) "
   ]
  },
  {
   "cell_type": "code",
   "execution_count": null,
   "metadata": {},
   "outputs": [],
   "source": [
    "#Q_NO_33>Develop a NumPy function that extracts specific elements from a 3D array using indices provided in three separate arrays for each dimension.\n",
    "def extract_3d_elements(array_3d, row_indices, col_indices, depth_indices):\n",
    "    # Use the indices to extract the elements\n",
    "    extracted_elements = array_3d[row_indices, col_indices, depth_indices]\n",
    "    \n",
    "    return extracted_elements\n",
    "\n",
    "\n",
    "# Creating a sample 3D array\n",
    "array_3d = np.array([[[10, 20, 30],\n",
    "                      [40, 50, 60],\n",
    "                      [70, 80, 90]],\n",
    "                     [[11, 21, 31],\n",
    "                      [41, 51, 61],\n",
    "                      [71, 81, 91]],\n",
    "                     [[12, 22, 32],\n",
    "                      [42, 52, 62],\n",
    "                      [72, 82, 92]]])\n",
    "\n",
    "# Defining indices for each dimension\n",
    "row_indices = np.array([0, 1, 2])\n",
    "col_indices = np.array([1, 2, 0])\n",
    "depth_indices = np.array([2, 1, 0])\n",
    "\n",
    "# Extracting elements\n",
    "extracted_elements = extract_3d_elements(array_3d, row_indices, col_indices, depth_indices)\n",
    "print(extracted_elements)  # Output: [30 61 72]"
   ]
  },
  {
   "cell_type": "code",
   "execution_count": null,
   "metadata": {},
   "outputs": [],
   "source": [
    "#Q_NO_34> Write a NumPy function that returns elements from an array where both two conditions are satisfied using boolean indexing.\n",
    "def filter_elements(array, condition1, condition2):\n",
    "    # Ensure conditions are boolean arrays and have the same shape as array\n",
    "    if not (array.shape == condition1.shape == condition2.shape):\n",
    "        raise ValueError(\"Array and conditions must have the same shape.\")\n",
    "    \n",
    "    # Combine both conditions\n",
    "    combined_condition = condition1 & condition2\n",
    "    \n",
    "    # Use the combined condition to filter the elements\n",
    "    filtered_elements = array[combined_condition]\n",
    "    \n",
    "    return filtered_elements\n",
    "\n",
    "array = np.array([1, 5, 7, 2, 9, 4])\n",
    "\n",
    "# Defining conditions\n",
    "condition1 = array > 3        \n",
    "condition2 = array % 2 == 0     \n",
    "\n",
    "# Filtering elements where both conditions are satisfied\n",
    "filtered_elements = filter_elements(array, condition1, condition2)\n",
    "print(filtered_elements)  \n"
   ]
  },
  {
   "cell_type": "code",
   "execution_count": null,
   "metadata": {},
   "outputs": [],
   "source": [
    "#Q_NO_35>Create a NumPy function that extracts elements from a 2D array using row and column indices provided in separate arrays.\n",
    "def extract_elements_2d(array_2d, row_indices, col_indices):\n",
    "    # Extract elements using row and column indices\n",
    "    extracted_elements = array_2d[row_indices, col_indices]\n",
    "    \n",
    "    return extracted_elements\n",
    "\n",
    "# Creating a sample 2D array\n",
    "array_2d = np.array([[10, 20, 30],\n",
    "                     [40, 50, 60],\n",
    "                     [70, 80, 90]])\n",
    "\n",
    "# Defining row and column indices\n",
    "row_indices = np.array([0, 1, 2])\n",
    "col_indices = np.array([1, 2, 0])\n",
    "\n",
    "# Extracting elements\n",
    "extracted_elements = extract_elements_2d(array_2d, row_indices, col_indices)\n",
    "print(extracted_elements)  \n"
   ]
  },
  {
   "cell_type": "code",
   "execution_count": null,
   "metadata": {},
   "outputs": [],
   "source": [
    "#Q_NO_36> Given an array arr of shape (3, 3), add a scalar value of 5 to each element using NumPy broadcasting.\n",
    "arr=np.random.randint(1,5,(3,3))\n",
    "print(arr)\n",
    "print(arr+5)"
   ]
  },
  {
   "cell_type": "code",
   "execution_count": null,
   "metadata": {},
   "outputs": [
    {
     "name": "stdout",
     "output_type": "stream",
     "text": [
      "[[ 2  4  6  8]\n",
      " [20 24 28 32]\n",
      " [54 60 66 72]]\n"
     ]
    }
   ],
   "source": [
    "#Q_NO_37>Consider two arrays arr1 of shape (1, 3) and arr2 of shape (3, 4). Multiply each row of arr2 by the corresponding element in arr1 using NumPy broadcasting.\n",
    "def multiply_rows_by_elements(arr1, arr2):\n",
    "    result = arr2 * arr1.T\n",
    "    return result\n",
    "\n",
    "\n",
    "arr1 = np.array([[2, 4, 6]])  \n",
    "arr2 = np.array([[1, 2, 3, 4],\n",
    "                 [5, 6, 7, 8],\n",
    "                 [9, 10, 11, 12]])  \n",
    "\n",
    "\n",
    "result = multiply_rows_by_elements(arr1, arr2)\n",
    "print(result)"
   ]
  },
  {
   "cell_type": "code",
   "execution_count": null,
   "metadata": {},
   "outputs": [
    {
     "name": "stdout",
     "output_type": "stream",
     "text": [
      "[[ 11  21  31]\n",
      " [ 42  52  62]\n",
      " [ 73  83  93]\n",
      " [104 114 124]]\n"
     ]
    }
   ],
   "source": [
    "#Q_NO_38>Given a 1D array arr1 of shape (1, 4) and a 2D array arr2 of shape (4, 3), add arr1 to each row of arr2 using NumPy broadcasting.\n",
    "\n",
    "def add_rows_with_broadcasting(arr1, arr2):\n",
    "    arr2_transposed = arr2.T\n",
    "    result = arr2_transposed + arr1\n",
    "    result = result.T\n",
    "    return result\n",
    "\n",
    "arr1 = np.array([[1, 2, 3, 4]])  \n",
    "arr2 = np.array([[10, 20, 30],\n",
    "                 [40, 50, 60],\n",
    "                 [70, 80, 90],\n",
    "                 [100, 110, 120]]) \n",
    "result = add_rows_with_broadcasting(arr1, arr2)\n",
    "print(result)"
   ]
  },
  {
   "cell_type": "code",
   "execution_count": null,
   "metadata": {},
   "outputs": [
    {
     "name": "stdout",
     "output_type": "stream",
     "text": [
      "[[11 21 31]\n",
      " [12 22 32]\n",
      " [13 23 33]]\n"
     ]
    }
   ],
   "source": [
    "#Q_NO_39> Consider two arrays arr1 of shape (3, 1) and arr2 of shape (1, 3). Add these arrays using NumPy broadcasting.\n",
    "import numpy as np\n",
    "\n",
    "def add_arrays_broadcasting(arr1, arr2):\n",
    "    result = arr1 + arr2\n",
    "    return result\n",
    "\n",
    "arr1 = np.array([[1], [2], [3]]) \n",
    "arr2 = np.array([[10, 20, 30]])   \n",
    "\n",
    "# Adding the arrays using broadcasting\n",
    "result = add_arrays_broadcasting(arr1, arr2)\n",
    "print(result)"
   ]
  },
  {
   "cell_type": "code",
   "execution_count": null,
   "metadata": {},
   "outputs": [
    {
     "name": "stdout",
     "output_type": "stream",
     "text": [
      "[[[ 10  20  30]\n",
      "  [ 80 100 120]]\n",
      "\n",
      " [[ 30  60  90]\n",
      "  [160 200 240]]]\n"
     ]
    }
   ],
   "source": [
    "#Q_NO_40> Given arrays arr1 of shape (2, 3) and arr2 of shape (2, 2), perform multiplication using NumPy broadcasting. Handle the shape incompatibility.\n",
    "def multiply_with_broadcasting(arr1, arr2):\n",
    "    # Expand dimensions of arr2 to make the shapes compatible\n",
    "    arr2_expanded = arr2[:, :, np.newaxis]  # Changing arr2 shape from (2, 2) to (2, 2, 1)\n",
    "    \n",
    "    # Using broadcasting to multiply arr1 with arr2_expanded\n",
    "    result = arr1 * arr2_expanded\n",
    "    \n",
    "    return result\n",
    "\n",
    "arr1 = np.array([[1, 2, 3],\n",
    "                 [4, 5, 6]]) \n",
    "\n",
    "arr2 = np.array([[10, 20],\n",
    "                 [30, 40]])  \n",
    "\n",
    "# Multiplying the arrays using broadcasting\n",
    "result = multiply_with_broadcasting(arr1, arr2)\n",
    "print(result)\n"
   ]
  },
  {
   "cell_type": "code",
   "execution_count": null,
   "metadata": {},
   "outputs": [],
   "source": [
    "#Q_No_41>  Calculate column-wise mean for the given array:\n",
    "arr=np.array([[1,2,3],[4,5,6]])\n",
    "\n",
    "print(np.mean(arr,axis=0))"
   ]
  },
  {
   "cell_type": "code",
   "execution_count": null,
   "metadata": {},
   "outputs": [],
   "source": [
    "#Q_No_42> Find maximum value in each row of the given array:\n",
    "arr=np.array([[1,2,3],[4,5,6]])\n",
    "\n",
    "print(np.max(arr,axis=1))\n"
   ]
  },
  {
   "cell_type": "code",
   "execution_count": null,
   "metadata": {},
   "outputs": [],
   "source": [
    "#Q_No_43>  For the given array, find indices of maximum value in each column.\n",
    "arr=np.array([[1,2,3],[4,5,6]])\n",
    "\n",
    "print(np.MAY_SHARE_EXACT(arr,axis=0))"
   ]
  },
  {
   "cell_type": "code",
   "execution_count": null,
   "metadata": {},
   "outputs": [],
   "source": [
    "#Q_No_44> For the given array, apply custom function to calculate moving sum along rows.\n",
    "arr=np.array([[1,2,3],[4,5,6]])\n",
    "\n",
    "print(np.cumsum(arr,axis=1))"
   ]
  },
  {
   "cell_type": "code",
   "execution_count": null,
   "metadata": {},
   "outputs": [],
   "source": [
    "#Q_No_45> In the given array, check if all elements in each column are even.\n",
    "arr=np.array([[1,2,3],[4,5,6]])\n",
    "\n",
    "print(np.sum(arr%2==0,axis=0))"
   ]
  },
  {
   "cell_type": "code",
   "execution_count": null,
   "metadata": {},
   "outputs": [],
   "source": [
    "#Q_No_46> Given a NumPy array arr, reshape it into a matrix of dimensions `m` rows and `n` columns. Return the reshaped matrix.\n",
    "original_array=np.array([1,2,3,4,5,6])\n",
    "reshape_arr=original_array.reshape(2,3)\n",
    "\n",
    "print(reshape_arr)"
   ]
  },
  {
   "cell_type": "code",
   "execution_count": null,
   "metadata": {},
   "outputs": [],
   "source": [
    "#Q_No_47>  Create a function that takes a matrix as input and returns the flattened array.\n",
    "input_matrix=np.array([[1,2,3],[4,5,6]])\n",
    "\n",
    "def func(arr):\n",
    "    return arr.flatten()\n",
    "\n",
    "print(func(input_matrix))"
   ]
  },
  {
   "cell_type": "code",
   "execution_count": null,
   "metadata": {},
   "outputs": [
    {
     "data": {
      "text/plain": [
       "array([[1, 2, 5, 6],\n",
       "       [3, 4, 7, 8]])"
      ]
     },
     "execution_count": 69,
     "metadata": {},
     "output_type": "execute_result"
    }
   ],
   "source": [
    "#Q_No_48> Write a function that concatenates two given arrays along a specified axis.\n",
    "array1 = np.array([[1, 2], [3, 4]])\n",
    "array2 = np.array([[5, 6], [7, 8]])\n",
    "def conc_arr(arr1,arr2,axis):\n",
    "    return np.concatenate((arr1,arr2),axis=axis)\n",
    "\n",
    "conc_arr(array1,array2,1)"
   ]
  },
  {
   "cell_type": "code",
   "execution_count": null,
   "metadata": {},
   "outputs": [
    {
     "ename": "IndexError",
     "evalue": "tuple index out of range",
     "output_type": "error",
     "traceback": [
      "\u001b[1;31m---------------------------------------------------------------------------\u001b[0m",
      "\u001b[1;31mIndexError\u001b[0m                                Traceback (most recent call last)",
      "Cell \u001b[1;32mIn[70], line 7\u001b[0m\n\u001b[0;32m      5\u001b[0m     sub_arrays \u001b[38;5;241m=\u001b[39m np\u001b[38;5;241m.\u001b[39msplit(array, indices, axis\u001b[38;5;241m=\u001b[39maxis)\n\u001b[0;32m      6\u001b[0m     \u001b[38;5;28;01mreturn\u001b[39;00m sub_arrays\n\u001b[1;32m----> 7\u001b[0m sub_arrays_col \u001b[38;5;241m=\u001b[39m \u001b[43msplit_array\u001b[49m\u001b[43m(\u001b[49m\u001b[43marray\u001b[49m\u001b[43m,\u001b[49m\u001b[43m \u001b[49m\u001b[43m[\u001b[49m\u001b[38;5;241;43m1\u001b[39;49m\u001b[43m]\u001b[49m\u001b[43m,\u001b[49m\u001b[43m \u001b[49m\u001b[43maxis\u001b[49m\u001b[38;5;241;43m=\u001b[39;49m\u001b[38;5;241;43m1\u001b[39;49m\u001b[43m)\u001b[49m\n\u001b[0;32m      8\u001b[0m \u001b[38;5;28mprint\u001b[39m(sub_arrays_col)\n",
      "Cell \u001b[1;32mIn[70], line 5\u001b[0m, in \u001b[0;36msplit_array\u001b[1;34m(array, indices, axis)\u001b[0m\n\u001b[0;32m      4\u001b[0m \u001b[38;5;28;01mdef\u001b[39;00m \u001b[38;5;21msplit_array\u001b[39m(array, indices, axis):\n\u001b[1;32m----> 5\u001b[0m     sub_arrays \u001b[38;5;241m=\u001b[39m \u001b[43mnp\u001b[49m\u001b[38;5;241;43m.\u001b[39;49m\u001b[43msplit\u001b[49m\u001b[43m(\u001b[49m\u001b[43marray\u001b[49m\u001b[43m,\u001b[49m\u001b[43m \u001b[49m\u001b[43mindices\u001b[49m\u001b[43m,\u001b[49m\u001b[43m \u001b[49m\u001b[43maxis\u001b[49m\u001b[38;5;241;43m=\u001b[39;49m\u001b[43maxis\u001b[49m\u001b[43m)\u001b[49m\n\u001b[0;32m      6\u001b[0m     \u001b[38;5;28;01mreturn\u001b[39;00m sub_arrays\n",
      "File \u001b[1;32mc:\\Users\\hp\\AppData\\Local\\Programs\\Python\\Python312\\Lib\\site-packages\\numpy\\lib\\shape_base.py:866\u001b[0m, in \u001b[0;36msplit\u001b[1;34m(ary, indices_or_sections, axis)\u001b[0m\n\u001b[0;32m    863\u001b[0m     \u001b[38;5;28;01mif\u001b[39;00m N \u001b[38;5;241m%\u001b[39m sections:\n\u001b[0;32m    864\u001b[0m         \u001b[38;5;28;01mraise\u001b[39;00m \u001b[38;5;167;01mValueError\u001b[39;00m(\n\u001b[0;32m    865\u001b[0m             \u001b[38;5;124m'\u001b[39m\u001b[38;5;124marray split does not result in an equal division\u001b[39m\u001b[38;5;124m'\u001b[39m) \u001b[38;5;28;01mfrom\u001b[39;00m \u001b[38;5;28;01mNone\u001b[39;00m\n\u001b[1;32m--> 866\u001b[0m \u001b[38;5;28;01mreturn\u001b[39;00m \u001b[43marray_split\u001b[49m\u001b[43m(\u001b[49m\u001b[43mary\u001b[49m\u001b[43m,\u001b[49m\u001b[43m \u001b[49m\u001b[43mindices_or_sections\u001b[49m\u001b[43m,\u001b[49m\u001b[43m \u001b[49m\u001b[43maxis\u001b[49m\u001b[43m)\u001b[49m\n",
      "File \u001b[1;32mc:\\Users\\hp\\AppData\\Local\\Programs\\Python\\Python312\\Lib\\site-packages\\numpy\\lib\\shape_base.py:759\u001b[0m, in \u001b[0;36marray_split\u001b[1;34m(ary, indices_or_sections, axis)\u001b[0m\n\u001b[0;32m    733\u001b[0m \u001b[38;5;250m\u001b[39m\u001b[38;5;124;03m\"\"\"\u001b[39;00m\n\u001b[0;32m    734\u001b[0m \u001b[38;5;124;03mSplit an array into multiple sub-arrays.\u001b[39;00m\n\u001b[0;32m    735\u001b[0m \n\u001b[1;32m   (...)\u001b[0m\n\u001b[0;32m    756\u001b[0m \n\u001b[0;32m    757\u001b[0m \u001b[38;5;124;03m\"\"\"\u001b[39;00m\n\u001b[0;32m    758\u001b[0m \u001b[38;5;28;01mtry\u001b[39;00m:\n\u001b[1;32m--> 759\u001b[0m     Ntotal \u001b[38;5;241m=\u001b[39m \u001b[43mary\u001b[49m\u001b[38;5;241;43m.\u001b[39;49m\u001b[43mshape\u001b[49m\u001b[43m[\u001b[49m\u001b[43maxis\u001b[49m\u001b[43m]\u001b[49m\n\u001b[0;32m    760\u001b[0m \u001b[38;5;28;01mexcept\u001b[39;00m \u001b[38;5;167;01mAttributeError\u001b[39;00m:\n\u001b[0;32m    761\u001b[0m     Ntotal \u001b[38;5;241m=\u001b[39m \u001b[38;5;28mlen\u001b[39m(ary)\n",
      "\u001b[1;31mIndexError\u001b[0m: tuple index out of range"
     ]
    }
   ],
   "source": [
    "#Q_No_49> Create a function that splits an array into multiple sub-arrays along a specified axis.\n",
    "original_array = np.array([[1, 2, 3], [4, 5, 6], [7, 8, 9]])\n",
    "\n",
    "def split_array(array, indices, axis):\n",
    "    sub_arrays = np.split(array, indices, axis=axis)\n",
    "    return sub_arrays\n",
    "sub_arrays_col = split_array(array, [1], axis=1)\n",
    "print(sub_arrays_col)\n",
    "\n",
    "\n"
   ]
  },
  {
   "cell_type": "code",
   "execution_count": null,
   "metadata": {},
   "outputs": [
    {
     "name": "stdout",
     "output_type": "stream",
     "text": [
      "[ 1 10  4 11  5]\n"
     ]
    }
   ],
   "source": [
    "#Q_No_50>  Write a function that inserts and then deletes elements from a given array at specified indices.\n",
    "original_array = np.array([1, 2, 3, 4, 5])\n",
    "indices_to_insert = [2, 4]\n",
    "values_to_insert = [10, 11]\n",
    "indices_to_delete = [1, 3]\n",
    "\n",
    "def insert_and_delete_elements(original_array, indices_to_insert, values_to_insert, indices_to_delete):\n",
    "    # Insert values at specified indices\n",
    "    modified_array = np.insert(original_array, indices_to_insert, values_to_insert)\n",
    "    \n",
    "    # Adjust indices to delete after insertion\n",
    "    adjusted_indices_to_delete = sorted(indices_to_delete)\n",
    "    \n",
    "    # Delete elements at specified indices\n",
    "    modified_array = np.delete(modified_array, adjusted_indices_to_delete)\n",
    "    \n",
    "    return modified_array\n",
    "\n",
    "result = insert_and_delete_elements(original_array, indices_to_insert, values_to_insert, indices_to_delete)\n",
    "print(result)\n"
   ]
  },
  {
   "cell_type": "code",
   "execution_count": null,
   "metadata": {},
   "outputs": [],
   "source": [
    "#Q_No_51>  Create a NumPy array `arr1` with random integers and another array `arr2` with integers from 1 to 10. Perform element-wise addition between `arr1` and `arr2`.\n",
    "arr1=np.random.randint(1,10,(3,3))\n",
    "arr2=np.random.randint(1,10,(3,3))\n",
    "\n",
    "print(arr1+arr2)"
   ]
  },
  {
   "cell_type": "code",
   "execution_count": null,
   "metadata": {},
   "outputs": [],
   "source": [
    "#Q_No_52> Generate a NumPy array `arr1` with sequential integers from 10 to 1 and another array `arr2` with integers from 1 to 10. Subtract `arr2` from `arr1` element-wise.\n",
    "arr1=np.random.randint(1,10,(3,3))\n",
    "arr2=np.random.randint(1,10,(3,3))\n",
    "\n",
    "print(arr2-arr1)"
   ]
  },
  {
   "cell_type": "code",
   "execution_count": null,
   "metadata": {},
   "outputs": [],
   "source": [
    "#Q_No_53> Create a NumPy array `arr1` with random integers and another array `arr2` with integers from 1 to 5. Perform element-wise multiplication between `arr1` and `arr2`.\n",
    "arr1=np.random.randint(1,5,(3,3))\n",
    "arr2=np.random.randint(1,5,(3,3))\n",
    "\n",
    "print(arr1*arr2)"
   ]
  },
  {
   "cell_type": "code",
   "execution_count": null,
   "metadata": {},
   "outputs": [
    {
     "name": "stdout",
     "output_type": "stream",
     "text": [
      "Array 1: [ 2  4  6  8 10]\n",
      "Array 2: [1 2 3 4 5]\n",
      "Element-wise division result: [2. 2. 2. 2. 2.]\n"
     ]
    }
   ],
   "source": [
    "#Q_No_54>  Generate a NumPy array `arr1` with even integers from 2 to 10 and another array `arr2` with integers from 1 to 5. Perform element-wise division of `arr1` by `arr2`.\n",
    "\n",
    "# Generate the arrays\n",
    "arr1 = np.arange(2, 11, 2)  # Even integers from 2 to 10\n",
    "arr2 = np.arange(1, 6)      # Integers from 1 to 5\n",
    "\n",
    "# Perform element-wise division\n",
    "result = arr1 / arr2\n",
    "\n",
    "# Display the arrays and the result\n",
    "print(\"Array 1:\", arr1)\n",
    "print(\"Array 2:\", arr2)\n",
    "print(\"Element-wise division result:\", result)"
   ]
  },
  {
   "cell_type": "code",
   "execution_count": null,
   "metadata": {},
   "outputs": [],
   "source": [
    "#Q_No_55>. Create a NumPy array `arr1` with integers from 1 to 5 and another array `arr2` with the same numbers reversed. Calculate the exponentiation of `arr1` raised to the power of `arr2` element-wise.\n",
    "arr1=np.random.randint(1,5,(3,3))\n",
    "arr2=np.random.randint(1,5,(3,3))\n",
    "\n",
    "print(arr1**arr2)"
   ]
  },
  {
   "cell_type": "code",
   "execution_count": null,
   "metadata": {},
   "outputs": [
    {
     "ename": "TypeError",
     "evalue": "'int' object is not iterable",
     "output_type": "error",
     "traceback": [
      "\u001b[1;31m---------------------------------------------------------------------------\u001b[0m",
      "\u001b[1;31mTypeError\u001b[0m                                 Traceback (most recent call last)",
      "Cell \u001b[1;32mIn[93], line 5\u001b[0m\n\u001b[0;32m      3\u001b[0m \u001b[38;5;28;01mfor\u001b[39;00m i \u001b[38;5;129;01min\u001b[39;00m arr:\n\u001b[0;32m      4\u001b[0m     count\u001b[38;5;241m=\u001b[39m\u001b[38;5;241m0\u001b[39m\n\u001b[1;32m----> 5\u001b[0m \u001b[43m    \u001b[49m\u001b[38;5;28;43;01mfor\u001b[39;49;00m\u001b[43m \u001b[49m\u001b[43mj\u001b[49m\u001b[43m \u001b[49m\u001b[38;5;129;43;01min\u001b[39;49;00m\u001b[43m \u001b[49m\u001b[43m(\u001b[49m\u001b[38;5;28;43mlen\u001b[39;49m\u001b[43m(\u001b[49m\u001b[43marr\u001b[49m\u001b[43m)\u001b[49m\u001b[43m)\u001b[49m\u001b[43m:\u001b[49m\n\u001b[0;32m      6\u001b[0m \u001b[43m        \u001b[49m\u001b[38;5;28;43;01mif\u001b[39;49;00m\u001b[43m \u001b[49m\u001b[43marr\u001b[49m\u001b[43m[\u001b[49m\u001b[43mi\u001b[49m\u001b[43m]\u001b[49m\u001b[38;5;241;43m==\u001b[39;49m\u001b[43marr\u001b[49m\u001b[43m[\u001b[49m\u001b[43mj\u001b[49m\u001b[43m]\u001b[49m\u001b[43m:\u001b[49m\n\u001b[0;32m      7\u001b[0m \u001b[43m            \u001b[49m\u001b[43mcount\u001b[49m\u001b[38;5;241;43m=\u001b[39;49m\u001b[43mcount\u001b[49m\u001b[38;5;241;43m+\u001b[39;49m\u001b[38;5;241;43m1\u001b[39;49m\n",
      "\u001b[1;31mTypeError\u001b[0m: 'int' object is not iterable"
     ]
    }
   ],
   "source": [
    "#Q_No_56>. Write a function that counts the occurrences of a specific substring within a NumPy array of strings.\n",
    "arr = np.array(['hello', 'world', 'hello', 'numpy', 'hello'])\n",
    "for i in arr:\n",
    "    count=0\n",
    "    for j in (len(arr)):\n",
    "        if arr[i]==arr[j]:\n",
    "            count=count+1\n",
    "    if count==0:\n",
    "        print(i)        \n"
   ]
  },
  {
   "cell_type": "code",
   "execution_count": null,
   "metadata": {},
   "outputs": [
    {
     "name": "stdout",
     "output_type": "stream",
     "text": [
      "['HELLO' 'WORLD' 'OPENAI' 'GPT']\n"
     ]
    }
   ],
   "source": [
    "#Q_No_57>Write a function that extracts uppercase characters from a NumPy array of strings.\n",
    "arr = np.array(['Hello', 'World', 'OpenAI', 'GPT'])\n",
    "\n",
    "def extrac_uppercase(array):\n",
    "    return np.char.upper(array)\n",
    "    \n",
    "print(extrac_uppercase(arr))    \n"
   ]
  },
  {
   "cell_type": "code",
   "execution_count": null,
   "metadata": {},
   "outputs": [],
   "source": [
    "#Q_No_58> Write a function that replaces occurrences of a substring in a NumPy array of strings with a new string.\n",
    "arr = np.array(['apple', 'banana', 'grape', 'pineapple'])"
   ]
  },
  {
   "cell_type": "code",
   "execution_count": null,
   "metadata": {},
   "outputs": [
    {
     "name": "stdout",
     "output_type": "stream",
     "text": [
      "['HelloOpen' 'WorldAI']\n"
     ]
    }
   ],
   "source": [
    "#Q_No_59> Write a function that concatenates strings in a NumPy array element-wise.\n",
    "arr1 = np.array(['Hello', 'World'])\n",
    "arr2 = np.array(['Open', 'AI'])\n",
    "\n",
    "def concatenate_arrays(arr1, arr2):\n",
    "    \n",
    "    concatenated_array = np.char.add(arr1, arr2)\n",
    "    return concatenated_array\n",
    "\n",
    "result = concatenate_arrays(arr1, arr2)\n",
    "print(result)"
   ]
  },
  {
   "cell_type": "code",
   "execution_count": null,
   "metadata": {},
   "outputs": [
    {
     "name": "stdout",
     "output_type": "stream",
     "text": [
      "pineapple\n"
     ]
    }
   ],
   "source": [
    "#Q_No_60> Write a function that finds the length of the longest string in a NumPy array.\n",
    "arr = np.array(['apple', 'banana', 'grape', 'pineapple'])\n",
    "\n",
    "def longest_str(arr):\n",
    "    longest_num=0\n",
    "    for i in range(0,len(arr)):\n",
    "        if len(arr[i])>longest_num:\n",
    "            longest_num=len(arr)\n",
    "            str=arr[i]\n",
    "\n",
    "    return str\n",
    "\n",
    "print(longest_str(arr))        \n",
    "    \n",
    "                \n",
    "\n"
   ]
  },
  {
   "cell_type": "code",
   "execution_count": null,
   "metadata": {},
   "outputs": [
    {
     "name": "stdout",
     "output_type": "stream",
     "text": [
      "471.93\n",
      "483.0\n",
      "81042.74510000001\n",
      "284.68007499647746\n"
     ]
    }
   ],
   "source": [
    "#Q_No_61>Create a dataset of 100 random integers between 1 and 1000. Compute the mean, median, variance, and standard deviation of the dataset using NumPy's functions.\n",
    "arr=np.random.randint(1,1000,size=(1,100))\n",
    "print(np.mean(arr))\n",
    "print(np.median(arr))\n",
    "print(np.var(arr))\n",
    "print(np.std(arr))"
   ]
  },
  {
   "cell_type": "code",
   "execution_count": null,
   "metadata": {},
   "outputs": [
    {
     "name": "stdout",
     "output_type": "stream",
     "text": [
      "[33.]\n",
      "[77.]\n"
     ]
    }
   ],
   "source": [
    "#Q_No_62> Generate an array of 50 random numbers between 1 and 100. Find the 25th and 75th percentiles of the dataset.\n",
    "arr=np.random.randint(1,100,size=(1,50))\n",
    "print(np.percentile(arr,[25]))\n",
    "print(np.percentile(arr,[75]))\n"
   ]
  },
  {
   "cell_type": "code",
   "execution_count": null,
   "metadata": {},
   "outputs": [
    {
     "data": {
      "text/plain": [
       "array([[ 1.        , -0.14502496],\n",
       "       [-0.14502496,  1.        ]])"
      ]
     },
     "execution_count": 114,
     "metadata": {},
     "output_type": "execute_result"
    }
   ],
   "source": [
    "#Q_No_63>. Create two arrays representing two sets of variables. Compute the correlation coefficient between these arrays using NumPy's `corrcoef` function.\n",
    "arr1=np.random.randint(1,100,size=(1,50))\n",
    "arr2=np.random.randint(1,200,size=(1,50))\n",
    "np.corrcoef(arr1,arr2)\n",
    "\n"
   ]
  },
  {
   "cell_type": "code",
   "execution_count": null,
   "metadata": {},
   "outputs": [
    {
     "data": {
      "text/plain": [
       "3"
      ]
     },
     "execution_count": 118,
     "metadata": {},
     "output_type": "execute_result"
    }
   ],
   "source": [
    "#Q_No_64> Create two matrices and perform matrix multiplication using NumPy's `dot` function.\n",
    "arr1=np.random.randint(1,10,size=(3,3))\n",
    "arr2=np.random.randint(1,20,size=(3,2))\n",
    "np.dot(arr1,arr2)\n"
   ]
  },
  {
   "cell_type": "code",
   "execution_count": null,
   "metadata": {},
   "outputs": [
    {
     "name": "stdout",
     "output_type": "stream",
     "text": [
      "60.30000000000001\n",
      "312.0\n",
      "810.0\n",
      "170.75\n",
      "675.5\n"
     ]
    }
   ],
   "source": [
    "#Q_No_65>. Create an array of 50 integers between 10 and 1000. Calculate the 10th, 50th (median), and 90th percentiles along with the first and third quartiles.\n",
    "arr = np.random.randint(10, 1001, 50)\n",
    "print(np.percentile(arr,10))\n",
    "print(np.percentile(arr,50))\n",
    "print(np.percentile(arr,90))\n",
    "print(np.percentile(arr,25))\n",
    "print(np.percentile(arr,75))"
   ]
  },
  {
   "cell_type": "code",
   "execution_count": null,
   "metadata": {},
   "outputs": [
    {
     "name": "stdout",
     "output_type": "stream",
     "text": [
      "2\n"
     ]
    }
   ],
   "source": [
    "#Q_No_66>Create a NumPy array of integers and find the index of a specific element.\n",
    "arr=np.array([1,2,3,4,5,5,4,1,2])\n",
    "for i in range(0,len(arr)-1):\n",
    "    count=0\n",
    "    for j in range(0,len(arr)):\n",
    "        if arr[i]==arr[j]:\n",
    "            count+=1\n",
    "\n",
    "    if count==1:\n",
    "        print(i)\n",
    "        break        \n",
    "\n",
    "\n",
    "     \n",
    "\n",
    "\n"
   ]
  },
  {
   "cell_type": "code",
   "execution_count": null,
   "metadata": {},
   "outputs": [
    {
     "data": {
      "text/plain": [
       "array([[ 2,  8, 16, 37, 46, 47, 55, 55, 85, 99]])"
      ]
     },
     "execution_count": 119,
     "metadata": {},
     "output_type": "execute_result"
    }
   ],
   "source": [
    "#Q_No_67>Generate a random NumPy array and sort it in ascending order.\n",
    "arr=np.random.randint(1,100,size=(1,10))\n",
    "np.sort(arr)\n",
    "\n"
   ]
  },
  {
   "cell_type": "code",
   "execution_count": null,
   "metadata": {},
   "outputs": [],
   "source": [
    "#Q_No_68>Filter elements >20  in the given NumPy array.\n",
    "arr=np.array([12,25,6,42,8,30])\n",
    "\n",
    "print(arr[arr>20])"
   ]
  },
  {
   "cell_type": "code",
   "execution_count": null,
   "metadata": {},
   "outputs": [],
   "source": [
    "#Q_No_69> Filter elements which are divisible by 3 from a given NumPy array.\n",
    "arr=np.array([1,5,8,12,15])\n",
    "print(arr[arr%3==0])"
   ]
  },
  {
   "cell_type": "code",
   "execution_count": null,
   "metadata": {},
   "outputs": [],
   "source": [
    "#Q_No_70> For the given NumPy array, check its byte order using the `dtype` attribute byteorder.\n",
    "arr=np.array([10,20,30,40,50])\n",
    "\n",
    "print(np.extract(arr>=20 and arr<=40,arr))"
   ]
  },
  {
   "cell_type": "code",
   "execution_count": null,
   "metadata": {},
   "outputs": [
    {
     "name": "stdout",
     "output_type": "stream",
     "text": [
      "False\n"
     ]
    }
   ],
   "source": [
    "#Q_No_ 71> For the given NumPy array, check its byte order using the `dtype` attribute byteorder.\n",
    "arr = np.array([1, 2, 3])\n",
    "\n",
    "print(arr.dtype==arr.dtype.byteorder)\n",
    "        \n"
   ]
  },
  {
   "cell_type": "code",
   "execution_count": null,
   "metadata": {},
   "outputs": [
    {
     "name": "stdout",
     "output_type": "stream",
     "text": [
      "[16777216 33554432 50331648]\n"
     ]
    }
   ],
   "source": [
    "#Q_NO_72> . For the given NumPy array, perform byte swapping in place using `byteswap()\n",
    "arr = np.array([1, 2, 3], dtype=np.int32)\n",
    "arr.byteswap(inplace=True)\n",
    "\n",
    "print(arr)"
   ]
  },
  {
   "cell_type": "code",
   "execution_count": null,
   "metadata": {},
   "outputs": [
    {
     "name": "stdout",
     "output_type": "stream",
     "text": [
      "Orignal Rray [1 2 3]\n",
      "Array with swapped byteorder [16777216 33554432 50331648]\n"
     ]
    }
   ],
   "source": [
    "#Q_No_73> For the given NumPy array, swap its byte order without modifying the original array using newbyteorder()\n",
    "arr = np.array([1, 2, 3], dtype=np.int32)\n",
    "swapped_arr=arr.newbyteorder()\n",
    "print(\"Orignal Rray\",arr)\n",
    "print(\"Array with swapped byteorder\",swapped_arr)\n"
   ]
  },
  {
   "cell_type": "code",
   "execution_count": null,
   "metadata": {},
   "outputs": [
    {
     "name": "stdout",
     "output_type": "stream",
     "text": [
      "System endianness: little\n",
      "Original array: [    1   256 65536]\n",
      "Conditionally swapped array: [16777216    65536      256]\n"
     ]
    }
   ],
   "source": [
    "#Q_No_74> For the given NumPy array and swap its byte order conditionally based on system endianness using newbyteorder().\n",
    "arr = np.array([1, 2, 3], dtype=np.int32)\n",
    "import sys\n",
    "\n",
    "# Example array\n",
    "arr = np.array([1, 256, 65536], dtype=np.int32)\n",
    "\n",
    "# Check system endianness\n",
    "system_endianness = sys.byteorder\n",
    "\n",
    "# Conditionally swap byte order\n",
    "if system_endianness == 'little':\n",
    "    swapped_arr = arr.newbyteorder('>')\n",
    "elif system_endianness == 'big':\n",
    "    swapped_arr = arr.newbyteorder('<')\n",
    "else:\n",
    "    swapped_arr = arr  \n",
    "    \n",
    "print(\"System endianness:\", system_endianness)\n",
    "print(\"Original array:\", arr)\n",
    "print(\"Conditionally swapped array:\", swapped_arr)\n"
   ]
  },
  {
   "cell_type": "code",
   "execution_count": null,
   "metadata": {},
   "outputs": [
    {
     "name": "stdout",
     "output_type": "stream",
     "text": [
      "Array is already in the native byte order; no swapping needed.\n"
     ]
    }
   ],
   "source": [
    "#Q_No_75>  For the given NumPy array, check if byte swapping is necessary for the current system using `dtype` attribute `byteorder.\n",
    "arr = np.array([1, 2, 3], dtype=np.int32)\n",
    "import sys\n",
    "\n",
    "# Example array\n",
    "arr = np.array([1, 256, 65536], dtype=np.int32)\n",
    "\n",
    "# Check system endianness\n",
    "system_endianness = sys.byteorder\n",
    "\n",
    "# Check the array's byte order\n",
    "array_byte_order = arr.dtype.byteorder\n",
    "\n",
    "# Determine if byte swapping is necessary\n",
    "# `=` indicates native byte order, so no swap is needed\n",
    "if array_byte_order == '=':\n",
    "    print(\"Array is already in the native byte order; no swapping needed.\")\n",
    "# `<` means little-endian, `>` means big-endian\n",
    "elif (array_byte_order == '<' and system_endianness == 'big') or (array_byte_order == '>' and system_endianness == 'little'):\n",
    "    print(\"Byte swapping is necessary for the current system.\")\n",
    "else:\n",
    "    print(\"Byte swapping is not necessary for the current system.\")\n"
   ]
  },
  {
   "cell_type": "code",
   "execution_count": 7,
   "metadata": {},
   "outputs": [],
   "source": [
    "#Q_No_76> Create a NumPy array `arr1` with values from 1 to 10. Create a copy of `arr1` named `copy_arr` and modify an element in `copy_arr`. Check if modifying `copy_arr` affects `arr1`.\n",
    "arr1 = np.arange(1, 11)\n",
    "copy_arr = arr1.copy()\n",
    "\n",
    "# Modify an element in the copy\n",
    "copy_arr[0] = 99 \n",
    "\n",
    "# Print the original array and the modified copy\n",
    "print(\"Original array (arr1):\", arr1)\n",
    "print(\"Modified copy (copy_arr):\", copy_arr)"
   ]
  },
  {
   "cell_type": "code",
   "execution_count": 8,
   "metadata": {},
   "outputs": [],
   "source": [
    "#Q_No_77>Create a 2D NumPy array `matrix` of shape (3, 3) with random integers. Extract a slice `view_slice` from the matrix. Modify an element in `view_slice` and observe if it changes the original `matrix`.\n",
    "matrix = np.random.randint(0, 10, (3, 3))\n",
    "view_slice = matrix[1:, 1:] \n",
    "view_slice[0, 0] = 99 \n",
    "print(\"Original matrix after modification:\\n\", matrix)\n",
    "print(\"Extracted slice (view_slice):\\n\", view_slice)"
   ]
  },
  {
   "cell_type": "code",
   "execution_count": 16,
   "metadata": {},
   "outputs": [],
   "source": [
    "#Q_No_78> Create a NumPy array `array_a` of shape (4, 3) with sequential integers from 1 to 12. Extract a slice `view_b` from `array_a` and broadcast the addition of 5 to view_b. Check if it alters the original `array\n",
    "array_a = np.arange(1, 13).reshape(4, 3)\n",
    "view_b = array_a[1:3, :]  # Extracting rows 1 and 2, all columns\n",
    "view_b += 5\n",
    "\n",
    "# Print the original array and the modified slice\n",
    "print(\"Original array_a after modification:\\n\", array_a)\n",
    "print(\"Extracted slice (view_b) after addition:\\n\", view_b)"
   ]
  },
  {
   "cell_type": "code",
   "execution_count": 10,
   "metadata": {},
   "outputs": [],
   "source": [
    "#Q_No_79>Create a NumPy array `orig_array` of shape (2, 4) with values from 1 to 8. Create a reshaped view `reshaped_view` of shape (4, 2) from orig_array. Modify an element in `reshaped_view` and check if it reflects changes in the original `orig_array`.\n",
    "orig_array = np.arange(1, 9).reshape(2, 4)\n",
    "reshaped_view = orig_array.reshape(4, 2)\n",
    "\n",
    "# Modify an element in the reshaped view\n",
    "reshaped_view[0, 0] = 99  # Changing the first element of the reshaped view\n",
    "\n",
    "\n",
    "# Print the original array and the modified reshaped view\n",
    "print(\"Original array (orig_array) after modification:\\n\", orig_array)\n",
    "print(\"Reshaped view (reshaped_view):\\n\", reshaped_view)"
   ]
  },
  {
   "cell_type": "code",
   "execution_count": 11,
   "metadata": {},
   "outputs": [],
   "source": [
    "#Q_No_80> Create a NumPy array `data` of shape (3, 4) with random integers. Extract a copy `data_copy` of elements greater than 5. Modify an element in `data_copy` and verify if it affects the original `data\n",
    "data = np.random.randint(0, 10, (3, 4))\n",
    "data_copy = data[data > 5].copy()\n",
    "if data_copy.size > 0:  # Check if there are elements greater than 5\n",
    "    data_copy[0] = 99\n",
    "\n",
    "print(\"Original array (data):\\n\", data)\n",
    "print(\"Modified copy (data_copy):\\n\", data_copy)    "
   ]
  },
  {
   "cell_type": "code",
   "execution_count": 12,
   "metadata": {},
   "outputs": [],
   "source": [
    "#Q_No_81> Create two matrices A and B of identical shape containing integers and perform addition and subtraction operations between them.\n",
    "arr1=np.random.randint(1,10,size=(3,4))\n",
    "arr2=np.random.randint(1,10,size=(3,4))\n",
    "print(arr1+arr2)\n",
    "print(arr1-arr2)"
   ]
  },
  {
   "cell_type": "code",
   "execution_count": 13,
   "metadata": {},
   "outputs": [],
   "source": [
    "#Q_No_82>Generate two matrices `C` (3x2) and `D` (2x4) and perform matrix multiplication.\n",
    "arr1=np.random.randint(1,10,size=(3,2))\n",
    "arr2=np.random.randint(1,10,size=(2,4))\n",
    "print(np.dot(arr1,arr2))"
   ]
  },
  {
   "cell_type": "code",
   "execution_count": 14,
   "metadata": {},
   "outputs": [],
   "source": [
    "#Q_No_83>Create a matrix `E` and find its transpose.\n",
    "E=np.random.randint(1,10,size=(3,3))\n",
    "print(\"Original array\",E)\n",
    "print(\"Transpose Array\",E.T)"
   ]
  },
  {
   "cell_type": "code",
   "execution_count": 15,
   "metadata": {},
   "outputs": [],
   "source": [
    "#Q_No_84>Generate a square matrix `F` and compute its determinant.\n",
    "F=np.random.randint(1,10,size=(3,3))\n",
    "np.linalg.det(F)"
   ]
  },
  {
   "cell_type": "code",
   "execution_count": null,
   "metadata": {},
   "outputs": [],
   "source": [
    "#Q_No_85>Create a square matrix `G` and find its inverse.\n",
    "G=np.random.randint(1,10,size=(3,3))\n",
    "print(\"Original array\",G)\n",
    "print(\"Transpose Array\",np.linalg.inv(G))"
   ]
  }
 ],
 "metadata": {
  "kernelspec": {
   "display_name": "Python 3",
   "language": "python",
   "name": "python3"
  },
  "language_info": {
   "codemirror_mode": {
    "name": "ipython",
    "version": 3
   },
   "file_extension": ".py",
   "mimetype": "text/x-python",
   "name": "python",
   "nbconvert_exporter": "python",
   "pygments_lexer": "ipython3",
   "version": "3.12.2"
  }
 },
 "nbformat": 4,
 "nbformat_minor": 2
}
